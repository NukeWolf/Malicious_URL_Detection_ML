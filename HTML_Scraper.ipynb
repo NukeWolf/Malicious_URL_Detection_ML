{
 "cells": [
  {
   "cell_type": "code",
   "execution_count": 1,
   "id": "40ffb03a-77eb-46a1-aa5a-ad33712e9603",
   "metadata": {},
   "outputs": [],
   "source": [
    "# Imports\n",
    "import pandas as pd\n",
    "import time\n",
    "import aiohttp \n",
    "import asyncio\n",
    "import socket\n",
    "import ssl\n",
    "import time"
   ]
  },
  {
   "cell_type": "code",
   "execution_count": 2,
   "id": "b2b45f03-9f12-4dd8-872d-6d318994effe",
   "metadata": {},
   "outputs": [
    {
     "name": "stdout",
     "output_type": "stream",
     "text": [
      "                                                      url        type  \\\n",
      "0                                        br-icloud.com.br    phishing   \n",
      "1                     mp3raid.com/music/krizz_kaliko.html      benign   \n",
      "2                         bopsecrets.org/rexroth/cr/1.htm      benign   \n",
      "3       http://www.garage-pirenne.be/index.php?option=...  defacement   \n",
      "4       http://adventure-nicaragua.net/index.php?optio...  defacement   \n",
      "...                                                   ...         ...   \n",
      "651186            xbox360.ign.com/objects/850/850402.html    phishing   \n",
      "651187       games.teamxbox.com/xbox-360/1860/Dead-Space/    phishing   \n",
      "651188         www.gamespot.com/xbox360/action/deadspace/    phishing   \n",
      "651189      en.wikipedia.org/wiki/Dead_Space_(video_game)    phishing   \n",
      "651190          www.angelfire.com/goth/devilmaycrytonite/    phishing   \n",
      "\n",
      "                   error  status_code content_type  \\\n",
      "0       connection_reset            0          NaN   \n",
      "1                timeout            0          NaN   \n",
      "2                   none          200    text/html   \n",
      "3                    dns            0          NaN   \n",
      "4                    dns            0          NaN   \n",
      "...                  ...          ...          ...   \n",
      "651186               NaN            0          NaN   \n",
      "651187               NaN            0          NaN   \n",
      "651188               NaN            0          NaN   \n",
      "651189               NaN            0          NaN   \n",
      "651190               NaN            0          NaN   \n",
      "\n",
      "                                                  headers  num_headers  \\\n",
      "0                                                     NaN            0   \n",
      "1                                                     NaN            0   \n",
      "2       {'Date': 'Thu, 02 May 2024 21:48:45 GMT', 'Ser...            6   \n",
      "3                                                     NaN            0   \n",
      "4                                                     NaN            0   \n",
      "...                                                   ...          ...   \n",
      "651186                                                NaN            0   \n",
      "651187                                                NaN            0   \n",
      "651188                                                NaN            0   \n",
      "651189                                                NaN            0   \n",
      "651190                                                NaN            0   \n",
      "\n",
      "       cookies  num_cookies  num_redirects  content_length  \n",
      "0          NaN            0              0               0  \n",
      "1          NaN            0              0               0  \n",
      "2           {}            0              0           26155  \n",
      "3          NaN            0              0               0  \n",
      "4          NaN            0              0               0  \n",
      "...        ...          ...            ...             ...  \n",
      "651186     NaN            0              0               0  \n",
      "651187     NaN            0              0               0  \n",
      "651188     NaN            0              0               0  \n",
      "651189     NaN            0              0               0  \n",
      "651190     NaN            0              0               0  \n",
      "\n",
      "[651191 rows x 11 columns]\n"
     ]
    },
    {
     "name": "stderr",
     "output_type": "stream",
     "text": [
      "C:\\Users\\Alex\\AppData\\Local\\Temp\\ipykernel_20080\\637519168.py:1: DtypeWarning: Columns (2,4,5,7) have mixed types. Specify dtype option on import or set low_memory=False.\n",
      "  data = pd.read_csv('./malicious_html_enhanced.csv')\n"
     ]
    }
   ],
   "source": [
    "original_dataset_path = './malicious_phish.csv'\n",
    "new_dataset_path = 'filtered_html_enhanced.csv'\n",
    "html_file_folder_path = './files'\n",
    "\n",
    "data = pd.read_csv(original_dataset_path)\n",
    "data.head()"
   ]
  },
  {
   "cell_type": "code",
   "execution_count": 5,
   "id": "3eda9ffb-9420-4876-aa62-ad25527a1fa3",
   "metadata": {
    "scrolled": true
   },
   "outputs": [
    {
     "name": "stdout",
     "output_type": "stream",
     "text": [
      "10.76 seconds\n",
      "10.73 seconds\n",
      "10.64 seconds\n",
      "10.73 seconds\n",
      "102000\n",
      "11.07 seconds\n",
      "10.72 seconds\n",
      "10.71 seconds\n",
      "10.71 seconds\n",
      "104000\n",
      "10.09 seconds\n",
      "10.71 seconds\n",
      "10.72 seconds\n"
     ]
    },
    {
     "name": "stderr",
     "output_type": "stream",
     "text": [
      "Exception in callback _ProactorBasePipeTransport._call_connection_lost(None)\n",
      "handle: <Handle _ProactorBasePipeTransport._call_connection_lost(None)>\n",
      "Traceback (most recent call last):\n",
      "  File \"C:\\Users\\Alex\\anaconda3\\Lib\\asyncio\\events.py\", line 80, in _run\n",
      "    self._context.run(self._callback, *self._args)\n",
      "  File \"C:\\Users\\Alex\\anaconda3\\Lib\\asyncio\\proactor_events.py\", line 165, in _call_connection_lost\n",
      "    self._sock.shutdown(socket.SHUT_RDWR)\n",
      "ConnectionResetError: [WinError 10054] An existing connection was forcibly closed by the remote host\n",
      "Exception in callback _ProactorBasePipeTransport._call_connection_lost(None)\n",
      "handle: <Handle _ProactorBasePipeTransport._call_connection_lost(None)>\n",
      "Traceback (most recent call last):\n",
      "  File \"C:\\Users\\Alex\\anaconda3\\Lib\\asyncio\\events.py\", line 80, in _run\n",
      "    self._context.run(self._callback, *self._args)\n",
      "  File \"C:\\Users\\Alex\\anaconda3\\Lib\\asyncio\\proactor_events.py\", line 165, in _call_connection_lost\n",
      "    self._sock.shutdown(socket.SHUT_RDWR)\n",
      "ConnectionResetError: [WinError 10054] An existing connection was forcibly closed by the remote host\n"
     ]
    },
    {
     "name": "stdout",
     "output_type": "stream",
     "text": [
      "10.72 seconds\n",
      "106000\n",
      "10.07 seconds\n",
      "10.72 seconds\n",
      "10.73 seconds\n",
      "10.68 seconds\n",
      "108000\n"
     ]
    },
    {
     "name": "stderr",
     "output_type": "stream",
     "text": [
      "Exception in callback _ProactorBasePipeTransport._call_connection_lost(None)\n",
      "handle: <Handle _ProactorBasePipeTransport._call_connection_lost(None)>\n",
      "Traceback (most recent call last):\n",
      "  File \"C:\\Users\\Alex\\anaconda3\\Lib\\asyncio\\events.py\", line 80, in _run\n",
      "    self._context.run(self._callback, *self._args)\n",
      "  File \"C:\\Users\\Alex\\anaconda3\\Lib\\asyncio\\proactor_events.py\", line 165, in _call_connection_lost\n",
      "    self._sock.shutdown(socket.SHUT_RDWR)\n",
      "ConnectionResetError: [WinError 10054] An existing connection was forcibly closed by the remote host\n"
     ]
    },
    {
     "name": "stdout",
     "output_type": "stream",
     "text": [
      "10.06 seconds\n",
      "10.71 seconds\n",
      "10.71 seconds\n"
     ]
    },
    {
     "name": "stderr",
     "output_type": "stream",
     "text": [
      "Can not load response cookies: Illegal key '_http_accept:image/webp'\n"
     ]
    },
    {
     "name": "stdout",
     "output_type": "stream",
     "text": [
      "10.69 seconds\n",
      "110000\n",
      "11.04 seconds\n",
      "10.71 seconds\n",
      "10.68 seconds\n",
      "10.71 seconds\n",
      "112000\n",
      "11.01 seconds\n",
      "10.70 seconds\n",
      "10.61 seconds\n",
      "10.71 seconds\n",
      "114000\n",
      "10.97 seconds\n",
      "14.70 seconds\n",
      "10.71 seconds\n",
      "10.70 seconds\n",
      "116000\n",
      "10.95 seconds\n",
      "10.73 seconds\n",
      "10.62 seconds\n",
      "10.69 seconds\n",
      "118000\n",
      "10.88 seconds\n",
      "10.71 seconds\n",
      "10.72 seconds\n",
      "10.70 seconds\n",
      "120000\n"
     ]
    },
    {
     "name": "stderr",
     "output_type": "stream",
     "text": [
      "Exception in callback _ProactorBasePipeTransport._call_connection_lost(None)\n",
      "handle: <Handle _ProactorBasePipeTransport._call_connection_lost(None)>\n",
      "Traceback (most recent call last):\n",
      "  File \"C:\\Users\\Alex\\anaconda3\\Lib\\asyncio\\events.py\", line 80, in _run\n",
      "    self._context.run(self._callback, *self._args)\n",
      "  File \"C:\\Users\\Alex\\anaconda3\\Lib\\asyncio\\proactor_events.py\", line 165, in _call_connection_lost\n",
      "    self._sock.shutdown(socket.SHUT_RDWR)\n",
      "ConnectionResetError: [WinError 10054] An existing connection was forcibly closed by the remote host\n"
     ]
    },
    {
     "name": "stdout",
     "output_type": "stream",
     "text": [
      "10.91 seconds\n",
      "10.69 seconds\n",
      "10.69 seconds\n",
      "10.73 seconds\n",
      "122000\n",
      "10.93 seconds\n",
      "10.68 seconds\n",
      "10.72 seconds\n",
      "10.73 seconds\n",
      "124000\n",
      "10.84 seconds\n",
      "10.69 seconds\n",
      "22.26 seconds\n",
      "10.17 seconds\n",
      "126000\n",
      "10.82 seconds\n",
      "10.71 seconds\n",
      "10.68 seconds\n",
      "10.71 seconds\n",
      "128000\n",
      "10.80 seconds\n",
      "10.60 seconds\n",
      "10.69 seconds\n",
      "10.70 seconds\n",
      "130000\n",
      "10.79 seconds\n",
      "10.69 seconds\n",
      "10.71 seconds\n",
      "10.74 seconds\n",
      "132000\n"
     ]
    },
    {
     "name": "stderr",
     "output_type": "stream",
     "text": [
      "Exception in callback _ProactorBasePipeTransport._call_connection_lost(None)\n",
      "handle: <Handle _ProactorBasePipeTransport._call_connection_lost(None)>\n",
      "Traceback (most recent call last):\n",
      "  File \"C:\\Users\\Alex\\anaconda3\\Lib\\asyncio\\events.py\", line 80, in _run\n",
      "    self._context.run(self._callback, *self._args)\n",
      "  File \"C:\\Users\\Alex\\anaconda3\\Lib\\asyncio\\proactor_events.py\", line 165, in _call_connection_lost\n",
      "    self._sock.shutdown(socket.SHUT_RDWR)\n",
      "ConnectionResetError: [WinError 10054] An existing connection was forcibly closed by the remote host\n",
      "Can not load response cookies: Illegal key '_http_accept:image/webp'\n",
      "Can not load response cookies: Illegal key '_http_accept:image/webp'\n"
     ]
    },
    {
     "name": "stdout",
     "output_type": "stream",
     "text": [
      "10.78 seconds\n",
      "10.68 seconds\n",
      "10.72 seconds\n",
      "10.72 seconds\n",
      "134000\n",
      "10.71 seconds\n",
      "10.72 seconds\n",
      "10.70 seconds\n",
      "10.72 seconds\n",
      "136000\n",
      "10.80 seconds\n",
      "10.71 seconds\n",
      "10.71 seconds\n",
      "10.70 seconds\n",
      "138000\n"
     ]
    },
    {
     "name": "stderr",
     "output_type": "stream",
     "text": [
      "Exception in callback _ProactorBasePipeTransport._call_connection_lost(None)\n",
      "handle: <Handle _ProactorBasePipeTransport._call_connection_lost(None)>\n",
      "Traceback (most recent call last):\n",
      "  File \"C:\\Users\\Alex\\anaconda3\\Lib\\asyncio\\events.py\", line 80, in _run\n",
      "    self._context.run(self._callback, *self._args)\n",
      "  File \"C:\\Users\\Alex\\anaconda3\\Lib\\asyncio\\proactor_events.py\", line 165, in _call_connection_lost\n",
      "    self._sock.shutdown(socket.SHUT_RDWR)\n",
      "ConnectionResetError: [WinError 10054] An existing connection was forcibly closed by the remote host\n"
     ]
    },
    {
     "name": "stdout",
     "output_type": "stream",
     "text": [
      "10.69 seconds\n",
      "10.70 seconds\n",
      "10.68 seconds\n",
      "10.71 seconds\n",
      "140000\n",
      "10.73 seconds\n"
     ]
    },
    {
     "name": "stderr",
     "output_type": "stream",
     "text": [
      "Can not load response cookies: Illegal key '_http_accept:image/webp'\n"
     ]
    },
    {
     "name": "stdout",
     "output_type": "stream",
     "text": [
      "10.71 seconds\n",
      "10.71 seconds\n",
      "10.70 seconds\n",
      "142000\n",
      "10.69 seconds\n",
      "10.70 seconds\n",
      "10.71 seconds\n",
      "10.73 seconds\n",
      "144000\n",
      "10.60 seconds\n",
      "10.72 seconds\n"
     ]
    },
    {
     "name": "stderr",
     "output_type": "stream",
     "text": [
      "Exception in callback _ProactorBasePipeTransport._call_connection_lost(None)\n",
      "handle: <Handle _ProactorBasePipeTransport._call_connection_lost(None)>\n",
      "Traceback (most recent call last):\n",
      "  File \"C:\\Users\\Alex\\anaconda3\\Lib\\asyncio\\events.py\", line 80, in _run\n",
      "    self._context.run(self._callback, *self._args)\n",
      "  File \"C:\\Users\\Alex\\anaconda3\\Lib\\asyncio\\proactor_events.py\", line 165, in _call_connection_lost\n",
      "    self._sock.shutdown(socket.SHUT_RDWR)\n",
      "ConnectionResetError: [WinError 10054] An existing connection was forcibly closed by the remote host\n"
     ]
    },
    {
     "name": "stdout",
     "output_type": "stream",
     "text": [
      "10.71 seconds\n",
      "10.73 seconds\n",
      "146000\n",
      "10.65 seconds\n",
      "10.74 seconds\n",
      "10.71 seconds\n",
      "10.73 seconds\n",
      "148000\n",
      "10.62 seconds\n",
      "10.71 seconds\n",
      "10.72 seconds\n",
      "10.73 seconds\n",
      "150000\n",
      "10.56 seconds\n",
      "10.72 seconds\n",
      "10.70 seconds\n",
      "10.70 seconds\n",
      "152000\n",
      "10.56 seconds\n",
      "10.70 seconds\n"
     ]
    },
    {
     "name": "stderr",
     "output_type": "stream",
     "text": [
      "Can not load response cookies: Illegal key '_http_accept:image/webp'\n"
     ]
    },
    {
     "name": "stdout",
     "output_type": "stream",
     "text": [
      "10.69 seconds\n",
      "10.71 seconds\n",
      "154000\n"
     ]
    },
    {
     "name": "stderr",
     "output_type": "stream",
     "text": [
      "Exception in callback _ProactorBasePipeTransport._call_connection_lost(None)\n",
      "handle: <Handle _ProactorBasePipeTransport._call_connection_lost(None)>\n",
      "Traceback (most recent call last):\n",
      "  File \"C:\\Users\\Alex\\anaconda3\\Lib\\asyncio\\events.py\", line 80, in _run\n",
      "    self._context.run(self._callback, *self._args)\n",
      "  File \"C:\\Users\\Alex\\anaconda3\\Lib\\asyncio\\proactor_events.py\", line 165, in _call_connection_lost\n",
      "    self._sock.shutdown(socket.SHUT_RDWR)\n",
      "ConnectionResetError: [WinError 10054] An existing connection was forcibly closed by the remote host\n"
     ]
    },
    {
     "name": "stdout",
     "output_type": "stream",
     "text": [
      "10.53 seconds\n",
      "10.72 seconds\n",
      "10.74 seconds\n",
      "10.72 seconds\n",
      "156000\n"
     ]
    },
    {
     "name": "stderr",
     "output_type": "stream",
     "text": [
      "Exception in callback _ProactorBasePipeTransport._call_connection_lost(None)\n",
      "handle: <Handle _ProactorBasePipeTransport._call_connection_lost(None)>\n",
      "Traceback (most recent call last):\n",
      "  File \"C:\\Users\\Alex\\anaconda3\\Lib\\asyncio\\events.py\", line 80, in _run\n",
      "    self._context.run(self._callback, *self._args)\n",
      "  File \"C:\\Users\\Alex\\anaconda3\\Lib\\asyncio\\proactor_events.py\", line 165, in _call_connection_lost\n",
      "    self._sock.shutdown(socket.SHUT_RDWR)\n",
      "ConnectionResetError: [WinError 10054] An existing connection was forcibly closed by the remote host\n"
     ]
    },
    {
     "name": "stdout",
     "output_type": "stream",
     "text": [
      "10.45 seconds\n",
      "10.72 seconds\n",
      "10.72 seconds\n",
      "10.70 seconds\n",
      "158000\n",
      "10.51 seconds\n",
      "10.71 seconds\n",
      "12.81 seconds\n",
      "10.62 seconds\n",
      "160000\n",
      "10.51 seconds\n",
      "10.71 seconds\n",
      "10.73 seconds\n",
      "10.70 seconds\n",
      "162000\n",
      "10.51 seconds\n",
      "10.71 seconds\n",
      "10.71 seconds\n",
      "10.72 seconds\n",
      "164000\n"
     ]
    },
    {
     "name": "stderr",
     "output_type": "stream",
     "text": [
      "Exception in callback _ProactorBasePipeTransport._call_connection_lost(None)\n",
      "handle: <Handle _ProactorBasePipeTransport._call_connection_lost(None)>\n",
      "Traceback (most recent call last):\n",
      "  File \"C:\\Users\\Alex\\anaconda3\\Lib\\asyncio\\events.py\", line 80, in _run\n",
      "    self._context.run(self._callback, *self._args)\n",
      "  File \"C:\\Users\\Alex\\anaconda3\\Lib\\asyncio\\proactor_events.py\", line 165, in _call_connection_lost\n",
      "    self._sock.shutdown(socket.SHUT_RDWR)\n",
      "ConnectionResetError: [WinError 10054] An existing connection was forcibly closed by the remote host\n"
     ]
    },
    {
     "name": "stdout",
     "output_type": "stream",
     "text": [
      "10.46 seconds\n",
      "10.73 seconds\n",
      "10.73 seconds\n",
      "10.70 seconds\n",
      "166000\n",
      "10.42 seconds\n",
      "10.72 seconds\n",
      "10.71 seconds\n",
      "10.70 seconds\n",
      "168000\n",
      "10.33 seconds\n",
      "10.70 seconds\n",
      "10.71 seconds\n",
      "10.76 seconds\n",
      "170000\n",
      "10.41 seconds\n",
      "10.70 seconds\n",
      "10.73 seconds\n",
      "10.76 seconds\n",
      "172000\n"
     ]
    },
    {
     "name": "stderr",
     "output_type": "stream",
     "text": [
      "Exception in callback _ProactorBasePipeTransport._call_connection_lost(None)\n",
      "handle: <Handle _ProactorBasePipeTransport._call_connection_lost(None)>\n",
      "Traceback (most recent call last):\n",
      "  File \"C:\\Users\\Alex\\anaconda3\\Lib\\asyncio\\events.py\", line 80, in _run\n",
      "    self._context.run(self._callback, *self._args)\n",
      "  File \"C:\\Users\\Alex\\anaconda3\\Lib\\asyncio\\proactor_events.py\", line 165, in _call_connection_lost\n",
      "    self._sock.shutdown(socket.SHUT_RDWR)\n",
      "ConnectionResetError: [WinError 10054] An existing connection was forcibly closed by the remote host\n",
      "Exception in callback _ProactorBasePipeTransport._call_connection_lost(None)\n",
      "handle: <Handle _ProactorBasePipeTransport._call_connection_lost(None)>\n",
      "Traceback (most recent call last):\n",
      "  File \"C:\\Users\\Alex\\anaconda3\\Lib\\asyncio\\events.py\", line 80, in _run\n",
      "    self._context.run(self._callback, *self._args)\n",
      "  File \"C:\\Users\\Alex\\anaconda3\\Lib\\asyncio\\proactor_events.py\", line 165, in _call_connection_lost\n",
      "    self._sock.shutdown(socket.SHUT_RDWR)\n",
      "ConnectionResetError: [WinError 10054] An existing connection was forcibly closed by the remote host\n"
     ]
    },
    {
     "name": "stdout",
     "output_type": "stream",
     "text": [
      "10.30 seconds\n",
      "10.70 seconds\n",
      "10.74 seconds\n",
      "10.70 seconds\n",
      "174000\n"
     ]
    },
    {
     "name": "stderr",
     "output_type": "stream",
     "text": [
      "Can not load response cookies: Illegal key '_http_accept:image/webp'\n",
      "Can not load response cookies: Illegal key '_http_accept:image/webp'\n"
     ]
    },
    {
     "name": "stdout",
     "output_type": "stream",
     "text": [
      "10.36 seconds\n",
      "10.73 seconds\n",
      "10.74 seconds\n",
      "10.70 seconds\n",
      "176000\n"
     ]
    },
    {
     "name": "stderr",
     "output_type": "stream",
     "text": [
      "Exception in callback _ProactorBasePipeTransport._call_connection_lost(None)\n",
      "handle: <Handle _ProactorBasePipeTransport._call_connection_lost(None)>\n",
      "Traceback (most recent call last):\n",
      "  File \"C:\\Users\\Alex\\anaconda3\\Lib\\asyncio\\events.py\", line 80, in _run\n",
      "    self._context.run(self._callback, *self._args)\n",
      "  File \"C:\\Users\\Alex\\anaconda3\\Lib\\asyncio\\proactor_events.py\", line 165, in _call_connection_lost\n",
      "    self._sock.shutdown(socket.SHUT_RDWR)\n",
      "ConnectionResetError: [WinError 10054] An existing connection was forcibly closed by the remote host\n"
     ]
    },
    {
     "name": "stdout",
     "output_type": "stream",
     "text": [
      "10.37 seconds\n",
      "10.68 seconds\n",
      "10.72 seconds\n",
      "10.71 seconds\n",
      "178000\n",
      "10.27 seconds\n",
      "10.69 seconds\n",
      "10.72 seconds\n",
      "10.69 seconds\n",
      "180000\n"
     ]
    },
    {
     "name": "stderr",
     "output_type": "stream",
     "text": [
      "Exception in callback _ProactorBasePipeTransport._call_connection_lost(None)\n",
      "handle: <Handle _ProactorBasePipeTransport._call_connection_lost(None)>\n",
      "Traceback (most recent call last):\n",
      "  File \"C:\\Users\\Alex\\anaconda3\\Lib\\asyncio\\events.py\", line 80, in _run\n",
      "    self._context.run(self._callback, *self._args)\n",
      "  File \"C:\\Users\\Alex\\anaconda3\\Lib\\asyncio\\proactor_events.py\", line 165, in _call_connection_lost\n",
      "    self._sock.shutdown(socket.SHUT_RDWR)\n",
      "ConnectionResetError: [WinError 10054] An existing connection was forcibly closed by the remote host\n"
     ]
    },
    {
     "name": "stdout",
     "output_type": "stream",
     "text": [
      "10.26 seconds\n",
      "10.72 seconds\n",
      "10.68 seconds\n",
      "10.71 seconds\n",
      "182000\n",
      "10.25 seconds\n",
      "10.73 seconds\n",
      "10.71 seconds\n",
      "10.70 seconds\n",
      "184000\n"
     ]
    },
    {
     "name": "stderr",
     "output_type": "stream",
     "text": [
      "Exception in callback _ProactorBasePipeTransport._call_connection_lost(None)\n",
      "handle: <Handle _ProactorBasePipeTransport._call_connection_lost(None)>\n",
      "Traceback (most recent call last):\n",
      "  File \"C:\\Users\\Alex\\anaconda3\\Lib\\asyncio\\events.py\", line 80, in _run\n",
      "    self._context.run(self._callback, *self._args)\n",
      "  File \"C:\\Users\\Alex\\anaconda3\\Lib\\asyncio\\proactor_events.py\", line 165, in _call_connection_lost\n",
      "    self._sock.shutdown(socket.SHUT_RDWR)\n",
      "ConnectionResetError: [WinError 10054] An existing connection was forcibly closed by the remote host\n"
     ]
    },
    {
     "name": "stdout",
     "output_type": "stream",
     "text": [
      "10.25 seconds\n",
      "10.70 seconds\n",
      "10.54 seconds\n",
      "10.73 seconds\n",
      "186000\n",
      "10.19 seconds\n",
      "10.71 seconds\n",
      "10.70 seconds\n"
     ]
    },
    {
     "name": "stderr",
     "output_type": "stream",
     "text": [
      "Can not load response cookies: Illegal key 'BIGipServerpeYdBK9oLd2/Kjm0o8zHzA'\n"
     ]
    },
    {
     "name": "stdout",
     "output_type": "stream",
     "text": [
      "10.70 seconds\n",
      "188000\n"
     ]
    },
    {
     "name": "stderr",
     "output_type": "stream",
     "text": [
      "Exception in callback _ProactorBasePipeTransport._call_connection_lost(None)\n",
      "handle: <Handle _ProactorBasePipeTransport._call_connection_lost(None)>\n",
      "Traceback (most recent call last):\n",
      "  File \"C:\\Users\\Alex\\anaconda3\\Lib\\asyncio\\events.py\", line 80, in _run\n",
      "    self._context.run(self._callback, *self._args)\n",
      "  File \"C:\\Users\\Alex\\anaconda3\\Lib\\asyncio\\proactor_events.py\", line 165, in _call_connection_lost\n",
      "    self._sock.shutdown(socket.SHUT_RDWR)\n",
      "ConnectionResetError: [WinError 10054] An existing connection was forcibly closed by the remote host\n",
      "Exception in callback _ProactorBasePipeTransport._call_connection_lost(None)\n",
      "handle: <Handle _ProactorBasePipeTransport._call_connection_lost(None)>\n",
      "Traceback (most recent call last):\n",
      "  File \"C:\\Users\\Alex\\anaconda3\\Lib\\asyncio\\events.py\", line 80, in _run\n",
      "    self._context.run(self._callback, *self._args)\n",
      "  File \"C:\\Users\\Alex\\anaconda3\\Lib\\asyncio\\proactor_events.py\", line 165, in _call_connection_lost\n",
      "    self._sock.shutdown(socket.SHUT_RDWR)\n",
      "ConnectionResetError: [WinError 10054] An existing connection was forcibly closed by the remote host\n"
     ]
    },
    {
     "name": "stdout",
     "output_type": "stream",
     "text": [
      "10.15 seconds\n",
      "11.01 seconds\n",
      "10.38 seconds\n",
      "10.67 seconds\n",
      "190000\n",
      "10.13 seconds\n",
      "10.68 seconds\n",
      "10.73 seconds\n",
      "10.74 seconds\n",
      "192000\n",
      "10.19 seconds\n",
      "10.73 seconds\n",
      "10.71 seconds\n",
      "10.71 seconds\n",
      "194000\n",
      "10.12 seconds\n",
      "10.69 seconds\n"
     ]
    },
    {
     "name": "stderr",
     "output_type": "stream",
     "text": [
      "Can not load response cookies: Illegal key '_http_accept:image/webp'\n",
      "Can not load response cookies: Illegal key '_http_accept:image/webp'\n"
     ]
    },
    {
     "name": "stdout",
     "output_type": "stream",
     "text": [
      "10.70 seconds\n",
      "10.70 seconds\n",
      "196000\n"
     ]
    },
    {
     "name": "stderr",
     "output_type": "stream",
     "text": [
      "Exception in callback _ProactorBasePipeTransport._call_connection_lost(None)\n",
      "handle: <Handle _ProactorBasePipeTransport._call_connection_lost(None)>\n",
      "Traceback (most recent call last):\n",
      "  File \"C:\\Users\\Alex\\anaconda3\\Lib\\asyncio\\events.py\", line 80, in _run\n",
      "    self._context.run(self._callback, *self._args)\n",
      "  File \"C:\\Users\\Alex\\anaconda3\\Lib\\asyncio\\proactor_events.py\", line 165, in _call_connection_lost\n",
      "    self._sock.shutdown(socket.SHUT_RDWR)\n",
      "ConnectionResetError: [WinError 10054] An existing connection was forcibly closed by the remote host\n"
     ]
    },
    {
     "name": "stdout",
     "output_type": "stream",
     "text": [
      "11.11 seconds\n",
      "10.72 seconds\n",
      "10.70 seconds\n",
      "10.71 seconds\n",
      "198000\n"
     ]
    },
    {
     "name": "stderr",
     "output_type": "stream",
     "text": [
      "Exception in callback _ProactorBasePipeTransport._call_connection_lost(None)\n",
      "handle: <Handle _ProactorBasePipeTransport._call_connection_lost(None)>\n",
      "Traceback (most recent call last):\n",
      "  File \"C:\\Users\\Alex\\anaconda3\\Lib\\asyncio\\events.py\", line 80, in _run\n",
      "    self._context.run(self._callback, *self._args)\n",
      "  File \"C:\\Users\\Alex\\anaconda3\\Lib\\asyncio\\proactor_events.py\", line 165, in _call_connection_lost\n",
      "    self._sock.shutdown(socket.SHUT_RDWR)\n",
      "ConnectionResetError: [WinError 10054] An existing connection was forcibly closed by the remote host\n",
      "Can not load response cookies: Illegal key '_http_accept:image/webp'\n",
      "Can not load response cookies: Illegal key '_http_accept:image/webp'\n"
     ]
    },
    {
     "name": "stdout",
     "output_type": "stream",
     "text": [
      "11.04 seconds\n",
      "10.72 seconds\n",
      "10.73 seconds\n"
     ]
    },
    {
     "name": "stderr",
     "output_type": "stream",
     "text": [
      "Can not load response cookies: Illegal key '_http_accept:image/webp'\n",
      "Can not load response cookies: Illegal key '_http_accept:image/webp'\n"
     ]
    },
    {
     "name": "stdout",
     "output_type": "stream",
     "text": [
      "10.69 seconds\n",
      "200000\n"
     ]
    },
    {
     "name": "stderr",
     "output_type": "stream",
     "text": [
      "Exception in callback _ProactorBasePipeTransport._call_connection_lost(None)\n",
      "handle: <Handle _ProactorBasePipeTransport._call_connection_lost(None)>\n",
      "Traceback (most recent call last):\n",
      "  File \"C:\\Users\\Alex\\anaconda3\\Lib\\asyncio\\events.py\", line 80, in _run\n",
      "    self._context.run(self._callback, *self._args)\n",
      "  File \"C:\\Users\\Alex\\anaconda3\\Lib\\asyncio\\proactor_events.py\", line 165, in _call_connection_lost\n",
      "    self._sock.shutdown(socket.SHUT_RDWR)\n",
      "ConnectionResetError: [WinError 10054] An existing connection was forcibly closed by the remote host\n"
     ]
    },
    {
     "name": "stdout",
     "output_type": "stream",
     "text": [
      "10.94 seconds\n",
      "10.70 seconds\n",
      "10.70 seconds\n",
      "10.70 seconds\n",
      "202000\n",
      "10.94 seconds\n",
      "10.70 seconds\n",
      "10.70 seconds\n",
      "13.79 seconds\n",
      "204000\n",
      "10.51 seconds\n",
      "10.70 seconds\n"
     ]
    },
    {
     "name": "stderr",
     "output_type": "stream",
     "text": [
      "Can not load response cookies: Illegal key '_http_accept:image/webp'\n",
      "Can not load response cookies: Illegal key '_http_accept:image/webp'\n"
     ]
    },
    {
     "name": "stdout",
     "output_type": "stream",
     "text": [
      "10.71 seconds\n",
      "10.73 seconds\n",
      "206000\n"
     ]
    },
    {
     "name": "stderr",
     "output_type": "stream",
     "text": [
      "Exception in callback _ProactorBasePipeTransport._call_connection_lost(None)\n",
      "handle: <Handle _ProactorBasePipeTransport._call_connection_lost(None)>\n",
      "Traceback (most recent call last):\n",
      "  File \"C:\\Users\\Alex\\anaconda3\\Lib\\asyncio\\events.py\", line 80, in _run\n",
      "    self._context.run(self._callback, *self._args)\n",
      "  File \"C:\\Users\\Alex\\anaconda3\\Lib\\asyncio\\proactor_events.py\", line 165, in _call_connection_lost\n",
      "    self._sock.shutdown(socket.SHUT_RDWR)\n",
      "ConnectionResetError: [WinError 10054] An existing connection was forcibly closed by the remote host\n"
     ]
    },
    {
     "name": "stdout",
     "output_type": "stream",
     "text": [
      "10.78 seconds\n",
      "10.70 seconds\n",
      "10.72 seconds\n",
      "10.71 seconds\n",
      "208000\n",
      "10.67 seconds\n",
      "10.70 seconds\n",
      "10.53 seconds\n",
      "10.70 seconds\n",
      "210000\n"
     ]
    },
    {
     "name": "stderr",
     "output_type": "stream",
     "text": [
      "Exception in callback _ProactorBasePipeTransport._call_connection_lost(None)\n",
      "handle: <Handle _ProactorBasePipeTransport._call_connection_lost(None)>\n",
      "Traceback (most recent call last):\n",
      "  File \"C:\\Users\\Alex\\anaconda3\\Lib\\asyncio\\events.py\", line 80, in _run\n",
      "    self._context.run(self._callback, *self._args)\n",
      "  File \"C:\\Users\\Alex\\anaconda3\\Lib\\asyncio\\proactor_events.py\", line 165, in _call_connection_lost\n",
      "    self._sock.shutdown(socket.SHUT_RDWR)\n",
      "ConnectionResetError: [WinError 10054] An existing connection was forcibly closed by the remote host\n"
     ]
    },
    {
     "name": "stdout",
     "output_type": "stream",
     "text": [
      "10.75 seconds\n",
      "10.69 seconds\n",
      "10.71 seconds\n",
      "10.71 seconds\n",
      "212000\n"
     ]
    },
    {
     "name": "stderr",
     "output_type": "stream",
     "text": [
      "Exception in callback _ProactorBasePipeTransport._call_connection_lost(None)\n",
      "handle: <Handle _ProactorBasePipeTransport._call_connection_lost(None)>\n",
      "Traceback (most recent call last):\n",
      "  File \"C:\\Users\\Alex\\anaconda3\\Lib\\asyncio\\events.py\", line 80, in _run\n",
      "    self._context.run(self._callback, *self._args)\n",
      "  File \"C:\\Users\\Alex\\anaconda3\\Lib\\asyncio\\proactor_events.py\", line 165, in _call_connection_lost\n",
      "    self._sock.shutdown(socket.SHUT_RDWR)\n",
      "ConnectionResetError: [WinError 10054] An existing connection was forcibly closed by the remote host\n",
      "Exception in callback _ProactorBasePipeTransport._call_connection_lost(None)\n",
      "handle: <Handle _ProactorBasePipeTransport._call_connection_lost(None)>\n",
      "Traceback (most recent call last):\n",
      "  File \"C:\\Users\\Alex\\anaconda3\\Lib\\asyncio\\events.py\", line 80, in _run\n",
      "    self._context.run(self._callback, *self._args)\n",
      "  File \"C:\\Users\\Alex\\anaconda3\\Lib\\asyncio\\proactor_events.py\", line 165, in _call_connection_lost\n",
      "    self._sock.shutdown(socket.SHUT_RDWR)\n",
      "ConnectionResetError: [WinError 10054] An existing connection was forcibly closed by the remote host\n"
     ]
    },
    {
     "name": "stdout",
     "output_type": "stream",
     "text": [
      "10.68 seconds\n"
     ]
    },
    {
     "name": "stderr",
     "output_type": "stream",
     "text": [
      "Exception in callback _ProactorBasePipeTransport._call_connection_lost(None)\n",
      "handle: <Handle _ProactorBasePipeTransport._call_connection_lost(None)>\n",
      "Traceback (most recent call last):\n",
      "  File \"C:\\Users\\Alex\\anaconda3\\Lib\\asyncio\\events.py\", line 80, in _run\n",
      "    self._context.run(self._callback, *self._args)\n",
      "  File \"C:\\Users\\Alex\\anaconda3\\Lib\\asyncio\\proactor_events.py\", line 165, in _call_connection_lost\n",
      "    self._sock.shutdown(socket.SHUT_RDWR)\n",
      "ConnectionResetError: [WinError 10054] An existing connection was forcibly closed by the remote host\n"
     ]
    },
    {
     "name": "stdout",
     "output_type": "stream",
     "text": [
      "10.73 seconds\n",
      "10.70 seconds\n",
      "10.69 seconds\n",
      "214000\n"
     ]
    },
    {
     "name": "stderr",
     "output_type": "stream",
     "text": [
      "Exception in callback _ProactorBasePipeTransport._call_connection_lost(None)\n",
      "handle: <Handle _ProactorBasePipeTransport._call_connection_lost(None)>\n",
      "Traceback (most recent call last):\n",
      "  File \"C:\\Users\\Alex\\anaconda3\\Lib\\asyncio\\events.py\", line 80, in _run\n",
      "    self._context.run(self._callback, *self._args)\n",
      "  File \"C:\\Users\\Alex\\anaconda3\\Lib\\asyncio\\proactor_events.py\", line 165, in _call_connection_lost\n",
      "    self._sock.shutdown(socket.SHUT_RDWR)\n",
      "ConnectionResetError: [WinError 10054] An existing connection was forcibly closed by the remote host\n",
      "Exception in callback _ProactorBasePipeTransport._call_connection_lost(None)\n",
      "handle: <Handle _ProactorBasePipeTransport._call_connection_lost(None)>\n",
      "Traceback (most recent call last):\n",
      "  File \"C:\\Users\\Alex\\anaconda3\\Lib\\asyncio\\events.py\", line 80, in _run\n",
      "    self._context.run(self._callback, *self._args)\n",
      "  File \"C:\\Users\\Alex\\anaconda3\\Lib\\asyncio\\proactor_events.py\", line 165, in _call_connection_lost\n",
      "    self._sock.shutdown(socket.SHUT_RDWR)\n",
      "ConnectionResetError: [WinError 10054] An existing connection was forcibly closed by the remote host\n"
     ]
    },
    {
     "name": "stdout",
     "output_type": "stream",
     "text": [
      "10.67 seconds\n"
     ]
    },
    {
     "name": "stderr",
     "output_type": "stream",
     "text": [
      "Can not load response cookies: Illegal key '&?+nCDBF2LhANhGaZMhwkzPM'\n"
     ]
    },
    {
     "name": "stdout",
     "output_type": "stream",
     "text": [
      "10.52 seconds\n",
      "10.74 seconds\n",
      "10.69 seconds\n",
      "216000\n",
      "10.61 seconds\n",
      "Other connection error: (ConnectionKey(host='charlescounty.org', port=443, is_ssl=True, ssl=True, proxy=None, proxy_auth=None, proxy_headers_hash=None), OSError(22, 'The semaphore timeout period has expired', None, 121, None))\n",
      "10.71 seconds\n",
      "10.71 seconds\n",
      "10.71 seconds\n",
      "218000\n",
      "10.45 seconds\n",
      "10.69 seconds\n"
     ]
    },
    {
     "ename": "ValueError",
     "evalue": "URL should be absolute",
     "output_type": "error",
     "traceback": [
      "\u001b[1;31m---------------------------------------------------------------------------\u001b[0m",
      "\u001b[1;31mValueError\u001b[0m                                Traceback (most recent call last)",
      "Cell \u001b[1;32mIn[5], line 156\u001b[0m\n\u001b[0;32m    154\u001b[0m indices\u001b[38;5;241m.\u001b[39mappend(index)\n\u001b[0;32m    155\u001b[0m \u001b[38;5;28;01mif\u001b[39;00m index \u001b[38;5;241m%\u001b[39m \u001b[38;5;241m500\u001b[39m \u001b[38;5;241m==\u001b[39m \u001b[38;5;241m499\u001b[39m:\n\u001b[1;32m--> 156\u001b[0m     results \u001b[38;5;241m=\u001b[39m \u001b[38;5;28;01mawait\u001b[39;00m proccess_link_batch(urls)\n\u001b[0;32m    157\u001b[0m     proccess_results(results, indices)\n\u001b[0;32m    159\u001b[0m     urls \u001b[38;5;241m=\u001b[39m []\n",
      "Cell \u001b[1;32mIn[5], line 104\u001b[0m, in \u001b[0;36mproccess_link_batch\u001b[1;34m(urls)\u001b[0m\n\u001b[0;32m    102\u001b[0m \u001b[38;5;28;01masync\u001b[39;00m \u001b[38;5;28;01mwith\u001b[39;00m aiohttp\u001b[38;5;241m.\u001b[39mClientSession() \u001b[38;5;28;01mas\u001b[39;00m session:\n\u001b[0;32m    103\u001b[0m     tasks \u001b[38;5;241m=\u001b[39m [asyncio\u001b[38;5;241m.\u001b[39mcreate_task(get_response(session, url)) \u001b[38;5;28;01mfor\u001b[39;00m url \u001b[38;5;129;01min\u001b[39;00m urls]\n\u001b[1;32m--> 104\u001b[0m     results \u001b[38;5;241m=\u001b[39m \u001b[38;5;28;01mawait\u001b[39;00m asyncio\u001b[38;5;241m.\u001b[39mgather(\u001b[38;5;241m*\u001b[39mtasks)\n\u001b[0;32m    105\u001b[0m     \u001b[38;5;28mprint\u001b[39m(\u001b[38;5;124mf\u001b[39m\u001b[38;5;124m\"\u001b[39m\u001b[38;5;132;01m{\u001b[39;00m(time\u001b[38;5;241m.\u001b[39mtime()\u001b[38;5;250m \u001b[39m\u001b[38;5;241m-\u001b[39m\u001b[38;5;250m \u001b[39mstart_time)\u001b[38;5;132;01m:\u001b[39;00m\u001b[38;5;124m.2f\u001b[39m\u001b[38;5;132;01m}\u001b[39;00m\u001b[38;5;124m seconds\u001b[39m\u001b[38;5;124m\"\u001b[39m)\n\u001b[0;32m    106\u001b[0m     \u001b[38;5;28;01mreturn\u001b[39;00m results\n",
      "Cell \u001b[1;32mIn[5], line 27\u001b[0m, in \u001b[0;36mget_response\u001b[1;34m(session, url, retries)\u001b[0m\n\u001b[0;32m     25\u001b[0m \u001b[38;5;28;01mfor\u001b[39;00m x \u001b[38;5;129;01min\u001b[39;00m \u001b[38;5;28mrange\u001b[39m(retries):\n\u001b[0;32m     26\u001b[0m     \u001b[38;5;28;01mtry\u001b[39;00m:\n\u001b[1;32m---> 27\u001b[0m         \u001b[38;5;28;01masync\u001b[39;00m \u001b[38;5;28;01mwith\u001b[39;00m session\u001b[38;5;241m.\u001b[39mget(url,headers\u001b[38;5;241m=\u001b[39mheaders,timeout\u001b[38;5;241m=\u001b[39m\u001b[38;5;241m10\u001b[39m,allow_redirects\u001b[38;5;241m=\u001b[39m\u001b[38;5;28;01mTrue\u001b[39;00m) \u001b[38;5;28;01mas\u001b[39;00m resp:\n\u001b[0;32m     28\u001b[0m             data[\u001b[38;5;124m\"\u001b[39m\u001b[38;5;124msuccess\u001b[39m\u001b[38;5;124m\"\u001b[39m] \u001b[38;5;241m=\u001b[39m \u001b[38;5;28;01mTrue\u001b[39;00m\n\u001b[0;32m     29\u001b[0m             data[\u001b[38;5;124m\"\u001b[39m\u001b[38;5;124mresponse\u001b[39m\u001b[38;5;124m\"\u001b[39m] \u001b[38;5;241m=\u001b[39m resp\n",
      "File \u001b[1;32m~\\anaconda3\\Lib\\site-packages\\aiohttp\\client.py:1194\u001b[0m, in \u001b[0;36m_BaseRequestContextManager.__aenter__\u001b[1;34m(self)\u001b[0m\n\u001b[0;32m   1193\u001b[0m \u001b[38;5;28;01masync\u001b[39;00m \u001b[38;5;28;01mdef\u001b[39;00m \u001b[38;5;21m__aenter__\u001b[39m(\u001b[38;5;28mself\u001b[39m) \u001b[38;5;241m-\u001b[39m\u001b[38;5;241m>\u001b[39m _RetType:\n\u001b[1;32m-> 1194\u001b[0m     \u001b[38;5;28mself\u001b[39m\u001b[38;5;241m.\u001b[39m_resp \u001b[38;5;241m=\u001b[39m \u001b[38;5;28;01mawait\u001b[39;00m \u001b[38;5;28mself\u001b[39m\u001b[38;5;241m.\u001b[39m_coro\n\u001b[0;32m   1195\u001b[0m     \u001b[38;5;28;01mreturn\u001b[39;00m \u001b[38;5;28mself\u001b[39m\u001b[38;5;241m.\u001b[39m_resp\n",
      "File \u001b[1;32m~\\anaconda3\\Lib\\site-packages\\aiohttp\\client.py:673\u001b[0m, in \u001b[0;36mClientSession._request\u001b[1;34m(self, method, str_or_url, params, data, json, cookies, headers, skip_auto_headers, auth, allow_redirects, max_redirects, compress, chunked, expect100, raise_for_status, read_until_eof, proxy, proxy_auth, timeout, verify_ssl, fingerprint, ssl_context, ssl, server_hostname, proxy_headers, trace_request_ctx, read_bufsize, auto_decompress, max_line_size, max_field_size)\u001b[0m\n\u001b[0;32m    670\u001b[0m \u001b[38;5;28;01melif\u001b[39;00m \u001b[38;5;129;01mnot\u001b[39;00m scheme:\n\u001b[0;32m    671\u001b[0m     parsed_url \u001b[38;5;241m=\u001b[39m url\u001b[38;5;241m.\u001b[39mjoin(parsed_url)\n\u001b[1;32m--> 673\u001b[0m \u001b[38;5;28;01mif\u001b[39;00m url\u001b[38;5;241m.\u001b[39morigin() \u001b[38;5;241m!=\u001b[39m parsed_url\u001b[38;5;241m.\u001b[39morigin():\n\u001b[0;32m    674\u001b[0m     auth \u001b[38;5;241m=\u001b[39m \u001b[38;5;28;01mNone\u001b[39;00m\n\u001b[0;32m    675\u001b[0m     headers\u001b[38;5;241m.\u001b[39mpop(hdrs\u001b[38;5;241m.\u001b[39mAUTHORIZATION, \u001b[38;5;28;01mNone\u001b[39;00m)\n",
      "File \u001b[1;32m~\\anaconda3\\Lib\\site-packages\\yarl\\_url.py:399\u001b[0m, in \u001b[0;36mURL.origin\u001b[1;34m(self)\u001b[0m\n\u001b[0;32m    397\u001b[0m \u001b[38;5;66;03m# TODO: add a keyword-only option for keeping user/pass maybe?\u001b[39;00m\n\u001b[0;32m    398\u001b[0m \u001b[38;5;28;01mif\u001b[39;00m \u001b[38;5;129;01mnot\u001b[39;00m \u001b[38;5;28mself\u001b[39m\u001b[38;5;241m.\u001b[39mis_absolute():\n\u001b[1;32m--> 399\u001b[0m     \u001b[38;5;28;01mraise\u001b[39;00m \u001b[38;5;167;01mValueError\u001b[39;00m(\u001b[38;5;124m\"\u001b[39m\u001b[38;5;124mURL should be absolute\u001b[39m\u001b[38;5;124m\"\u001b[39m)\n\u001b[0;32m    400\u001b[0m \u001b[38;5;28;01mif\u001b[39;00m \u001b[38;5;129;01mnot\u001b[39;00m \u001b[38;5;28mself\u001b[39m\u001b[38;5;241m.\u001b[39m_val\u001b[38;5;241m.\u001b[39mscheme:\n\u001b[0;32m    401\u001b[0m     \u001b[38;5;28;01mraise\u001b[39;00m \u001b[38;5;167;01mValueError\u001b[39;00m(\u001b[38;5;124m\"\u001b[39m\u001b[38;5;124mURL should have scheme\u001b[39m\u001b[38;5;124m\"\u001b[39m)\n",
      "\u001b[1;31mValueError\u001b[0m: URL should be absolute"
     ]
    }
   ],
   "source": [
    "\n",
    "headers = {\n",
    "        'User-Agent': 'Mozilla/5.0 (Windows NT 10.0; Win64; x64) AppleWebKit/537.36 (KHTML, like Gecko) Chrome/98.0.4758.102 Safari/537.36',\n",
    "        'Accept': 'text/html,application/xhtml+xml,application/xml;q=0.9,image/avif,image/webp,image/apng,*/*;q=0.8,application/signed-exchange;v=b3;q=0.9',\n",
    "        'Accept-Encoding': 'gzip, deflate, br',\n",
    "        'Accept-Language': 'en-US,en;q=0.9',\n",
    "        # Add other headers as needed\n",
    "}\n",
    "\n",
    "# Sends an HTTP requests with multiple retries\n",
    "async def get_response(session, url,retries=5):\n",
    "    data = {\n",
    "        \"success\" : False,\n",
    "        \"content\" : None\n",
    "    }\n",
    "    for x in range(retries):\n",
    "        try:\n",
    "            async with session.get(url,headers=headers,timeout=10,allow_redirects=True) as resp:\n",
    "                data[\"success\"] = True\n",
    "                data[\"response\"] = resp\n",
    "                try:\n",
    "                    data[\"content\"] = await resp.read()\n",
    "                    data[\"string_content\"] = await resp.text()\n",
    "                    return data\n",
    "                except aiohttp.ClientPayloadError as e:\n",
    "                    if x == retries-1:\n",
    "                        data[\"success\"] = False\n",
    "                        data[\"error\"] = \"server_disconnected\"\n",
    "                        data[\"except_error\"] = e \n",
    "                        return data\n",
    "                    else:\n",
    "                        continue\n",
    "                \n",
    "        except aiohttp.ClientConnectorCertificateError as e:\n",
    "            data[\"error\"] = \"certificate\"\n",
    "            data[\"except_error\"] = e \n",
    "            return data\n",
    "        except aiohttp.ClientConnectorError as e:\n",
    "            data[\"success\"] = False\n",
    "            data[\"content\"] = None\n",
    "            data[\"except_error\"] = e \n",
    "            if isinstance(e.os_error, socket.gaierror):\n",
    "                #print(\"DNS resolution error:\", e)\n",
    "                data[\"error\"] = \"dns\"\n",
    "                # Handle DNS resolution errors (e.g., hostname not found)\n",
    "            elif isinstance(e.os_error, ConnectionResetError):\n",
    "                #print(\"Connection Reset error\",e)\n",
    "                data[\"error\"] = \"connection_reset\"\n",
    "            elif isinstance(e.os_error, ConnectionRefusedError):\n",
    "                data[\"error\"] = \"connection_refused\"\n",
    "            elif isinstance(e.os_error, ssl.SSLError):\n",
    "                data[\"error\"] = \"ssl\"\n",
    "                #print(\"SSL Handshake Error\",e)\n",
    "            else:\n",
    "                print(\"Other connection error:\", e.args)\n",
    "                data[\"error\"] = \"unknown\"\n",
    "            return data\n",
    "            \n",
    "        except aiohttp.ClientOSError as e:\n",
    "            #print(f\"Network error occurred: {e}\")\n",
    "            #print(\"Retrying...\")\n",
    "            await asyncio.sleep(1)  # Wait for a short duration before retrying\n",
    "            if x == retries-1:\n",
    "                data[\"error\"] = \"os\"\n",
    "                data[\"except_error\"] = e \n",
    "                return data\n",
    "        except aiohttp.ServerDisconnectedError as e:\n",
    "            #print(f\"Server disconnected: {e}\")\n",
    "            #print(\"Retrying...\")\n",
    "            await asyncio.sleep(1)\n",
    "            if x == retries-1:\n",
    "                data[\"error\"] = \"server_disconnected\"\n",
    "                data[\"except_error\"] = e \n",
    "                return data\n",
    "        except asyncio.TimeoutError:\n",
    "            data[\"error\"] = \"timeout\"\n",
    "            return data\n",
    "        except aiohttp.ClientResponseError as e:\n",
    "            data[\"error\"] = \"client\"\n",
    "            data[\"except_error\"] = e\n",
    "            #print(e)\n",
    "            return data\n",
    "        except UnicodeError as e:\n",
    "            data[\"error\"] = \"unicode\"\n",
    "            return data\n",
    "        except ConnectionResetError as e:\n",
    "            data[\"error\"] = \"connection_reset\"\n",
    "            return data\n",
    "        except:\n",
    "            data[\"error\"] = \"unknown\"\n",
    "            return data\n",
    "    \t\n",
    "\n",
    "# Proccesses URLS in batches to prevent overloading netcode\n",
    "async def proccess_link_batch(urls):\n",
    "    start_time = time.time()\n",
    "    async with aiohttp.ClientSession() as session:\n",
    "        tasks = [asyncio.create_task(get_response(session, url)) for url in urls]\n",
    "        results = await asyncio.gather(*tasks)\n",
    "        print(f\"{(time.time() - start_time):.2f} seconds\")\n",
    "        return results\n",
    "\n",
    "# Saves Results to csv file\n",
    "def proccess_results(results,indices):\n",
    "    for result,index in zip(results,indices):\n",
    "\n",
    "        if result[\"success\"]:\n",
    "            response = result[\"response\"]\n",
    "            data.at[index,'error'] = \"none\"\n",
    "            data.at[index,\"status_code\"] = response.status\n",
    "            data.at[index,\"content_type\"] = response.content_type\n",
    "            data.at[index,\"headers\"] = dict(response.headers.items())\n",
    "            data.at[index,\"num_headers\"] = len(data.at[index,\"headers\"])\n",
    "            data.at[index,\"cookies\"] = dict(response.cookies.items())\n",
    "            data.at[index,\"num_cookies\"] = len(data.at[index,\"cookies\"])\n",
    "\n",
    "            if response.history:\n",
    "                data.at[index,\"num_redirects\"] = len(response.history)\n",
    "                                  \n",
    "            if result[\"content\"] != None:\n",
    "                # Write content to file\n",
    "                path = f\"{html_file_folder_path}/{index}.html\"\n",
    "                with open(path, 'wb') as f:\n",
    "                    f.write(result[\"content\"])\n",
    "                    \n",
    "                data.at[index,\"content_length\"] = len(result[\"content\"])\n",
    "        else:\n",
    "            data.at[index,'error'] = result['error']\n",
    "            \n",
    "\n",
    "def initialize_pandas_columns(columns):\n",
    "    for name,default in columns:\n",
    "        if name not in data.columns:\n",
    "            data[name] = default\n",
    "\n",
    "\n",
    "new_columns = [(\"error\",\"n/a\"), (\"status_code\",0), (\"content_type\", None), (\"headers\", None),\n",
    "               (\"num_headers\", 0), (\"cookies\", None), (\"num_cookies\", 0), (\"num_redirects\", 0), (\"content_length\",0)]\n",
    "initialize_pandas_columns(new_columns)\n",
    "\n",
    "urls = []\n",
    "indices = []\n",
    "for index, row in data.iterrows():\n",
    "    url = row['url'] \n",
    "    if not (url.startswith('http://') or url.startswith('https://')):\n",
    "        url = 'https://' + url\n",
    "        \n",
    "    urls.append(url)\n",
    "    indices.append(index)\n",
    "    if index % 500 == 499:\n",
    "        results = await proccess_link_batch(urls)\n",
    "        proccess_results(results, indices)\n",
    "\n",
    "        urls = []\n",
    "        indices = []\n",
    "\n",
    "    if index % 2000 == 0:\n",
    "        print(index)\n",
    "        try:\n",
    "            data.to_csv(new_dataset_path, mode='w', index=False)\n",
    "        except:\n",
    "            print(sys.exc_info()[1])\n",
    "            pass\n",
    "        \n"
   ]
  },
  {
   "cell_type": "code",
   "execution_count": null,
   "id": "8aeb81b0-a411-4727-ad06-636da23f9489",
   "metadata": {},
   "outputs": [],
   "source": []
  },
  {
   "cell_type": "code",
   "execution_count": null,
   "id": "e639fdeb-5179-4f5b-9003-9f3319fef859",
   "metadata": {},
   "outputs": [],
   "source": []
  }
 ],
 "metadata": {
  "kernelspec": {
   "display_name": "Python 3 (ipykernel)",
   "language": "python",
   "name": "python3"
  },
  "language_info": {
   "codemirror_mode": {
    "name": "ipython",
    "version": 3
   },
   "file_extension": ".py",
   "mimetype": "text/x-python",
   "name": "python",
   "nbconvert_exporter": "python",
   "pygments_lexer": "ipython3",
   "version": "3.11.7"
  }
 },
 "nbformat": 4,
 "nbformat_minor": 5
}
